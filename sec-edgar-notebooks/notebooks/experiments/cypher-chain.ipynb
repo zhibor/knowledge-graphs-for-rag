{
 "cells": [
  {
   "cell_type": "code",
   "execution_count": 1,
   "metadata": {},
   "outputs": [],
   "source": [
    "import os\n",
    "from dotenv import load_dotenv\n",
    "\n",
    "import textwrap\n",
    "\n",
    "from langchain_community.graphs import Neo4jGraph\n",
    "from langchain_community.graphs import Neo4jGraph\n",
    "from langchain_community.vectorstores import Neo4jVector\n",
    "from langchain_openai import OpenAIEmbeddings\n",
    "from langchain.chains import RetrievalQAWithSourcesChain\n",
    "from langchain_openai import ChatOpenAI\n",
    "from langchain_core.prompts import ChatPromptTemplate\n",
    "from langchain.prompts.prompt import PromptTemplate\n",
    "from langchain.chains import GraphCypherQAChain\n",
    "\n",
    "load_dotenv()\n",
    "\n",
    "NEO4J_URI = os.getenv('NEO4J_URI')\n",
    "NEO4J_USERNAME = os.getenv('NEO4J_USERNAME')\n",
    "NEO4J_PASSWORD = os.getenv('NEO4J_PASSWORD')\n",
    "NEO4J_DATABASE = os.getenv('NEO4J_DATABASE')\n",
    "\n",
    "OPENAI_API_KEY = os.getenv('OPENAI_API_KEY')\n",
    "\n",
    "# Global constants\n",
    "VECTOR_INDEX_NAME = 'form_10k_chunks'\n",
    "VECTOR_NODE_LABEL = 'Chunk'\n",
    "VECTOR_SOURCE_PROPERTY = 'text'\n",
    "VECTOR_EMBEDDING_PROPERTY = 'textEmbedding'\n",
    "\n",
    "\n",
    "kg = Neo4jGraph(\n",
    "    url=NEO4J_URI, username=NEO4J_USERNAME, password=NEO4J_PASSWORD, database=NEO4J_DATABASE\n",
    ")\n",
    "\n"
   ]
  },
  {
   "cell_type": "code",
   "execution_count": 2,
   "metadata": {},
   "outputs": [
    {
     "data": {
      "text/plain": [
       "[{'companyName': 'Netapp Inc'},\n",
       " {'companyName': 'Palo Alto Networks Inc'},\n",
       " {'companyName': 'Fedex Corp'},\n",
       " {'companyName': 'Gsi Technology Inc'},\n",
       " {'companyName': 'News Corp New'},\n",
       " {'companyName': 'Nike Inc'},\n",
       " {'companyName': 'Western Digital Corp.'},\n",
       " {'companyName': 'Seagate Technology'},\n",
       " {'companyName': 'Atlassian Corp Plc'},\n",
       " {'companyName': 'Apple Inc'}]"
      ]
     },
     "execution_count": 2,
     "metadata": {},
     "output_type": "execute_result"
    }
   ],
   "source": [
    "# What companies do you know about?\n",
    "kg.query(\"\"\"\n",
    "  MATCH (com:Company)\n",
    "  RETURN apoc.text.capitalizeAll(toLower(com.companyName)) as companyName\n",
    "\"\"\")"
   ]
  },
  {
   "cell_type": "code",
   "execution_count": null,
   "metadata": {},
   "outputs": [],
   "source": [
    "# Where is Blackrock located?\n",
    "kg.query(\"\"\"\n",
    "  CALL db.index.fulltext.queryNodes(\"fullTextManagerNames\", \"Blackrock\") YIELD node, score\n",
    "  MATCH p=(node)-[:LOCATED_AT]->(address:Address)\n",
    "  RETURN p\n",
    "\"\"\")"
   ]
  },
  {
   "cell_type": "code",
   "execution_count": null,
   "metadata": {},
   "outputs": [],
   "source": [
    "# How many investment firms are at the same address as Blackrock?\n",
    "kg.query(\"\"\"\n",
    "  CALL db.index.fulltext.queryNodes(\"fullTextManagerNames\", \"Blackrock\") YIELD node, score\n",
    "  MATCH p=(node)-[:LOCATED_AT]->(address:Address)<-[:LOCATED_AT]-(other:Manager)\n",
    "  RETURN count(other) as numManagers\n",
    "\"\"\")"
   ]
  },
  {
   "cell_type": "code",
   "execution_count": null,
   "metadata": {},
   "outputs": [],
   "source": [
    "# Which state has the most investment firms?\n",
    "kg.query(\"\"\"\n",
    "  MATCH p=(:Manager)-[:LOCATED_AT]->(address:Address)\n",
    "  RETURN address.state as state, count(address.state) as numManagers\n",
    "    ORDER BY numManagers DESC\n",
    "    LIMIT 10\n",
    "\"\"\")"
   ]
  },
  {
   "cell_type": "code",
   "execution_count": null,
   "metadata": {},
   "outputs": [],
   "source": [
    "# What are the cities in California with the most investment firms?\n",
    "kg.query(\"\"\"\n",
    "  MATCH p=(:Manager)-[:LOCATED_AT]->(address:Address)\n",
    "         WHERE address.state = 'California'\n",
    "  RETURN address.city as city, count(address.city) as numManagers\n",
    "    ORDER BY numManagers DESC\n",
    "    LIMIT 10\n",
    "\"\"\")"
   ]
  },
  {
   "cell_type": "code",
   "execution_count": null,
   "metadata": {},
   "outputs": [],
   "source": [
    "# What are top investment firms in San Francisco?\n",
    "kg.query(\"\"\"\n",
    "  MATCH p=(mgr:Manager)-[:LOCATED_AT]->(address:Address),\n",
    "         (mgr)-[owns:OWNS_STOCK_IN]->(:Company)\n",
    "         WHERE address.city = $city\n",
    "  RETURN mgr.managerName as city, sum(owns.value) as totalInvestmentValue\n",
    "    ORDER BY totalInvestmentValue DESC\n",
    "    LIMIT 10\n",
    "\"\"\", params={\"city\": \"San Francisco\", \"state\": \"California\"})"
   ]
  },
  {
   "cell_type": "code",
   "execution_count": 5,
   "metadata": {},
   "outputs": [],
   "source": [
    "CYPHER_GENERATION_TEMPLATE = \"\"\"Task:Generate Cypher statement to query a graph database.\n",
    "Instructions:\n",
    "Use only the provided relationship types and properties in the schema.\n",
    "Do not use any other relationship types or properties that are not provided.\n",
    "Schema:\n",
    "{schema}\n",
    "Note: Do not include any explanations or apologies in your responses.\n",
    "Do not respond to any questions that might ask anything else than for you to construct a Cypher statement.\n",
    "Do not include any text except the generated Cypher statement.\n",
    "\n",
    "The question is:\n",
    "{question}\"\"\"\n",
    "\n",
    "CYPHER_GENERATION_PROMPT = PromptTemplate(\n",
    "    input_variables=[\"schema\", \"question\"], template=CYPHER_GENERATION_TEMPLATE\n",
    ")\n",
    "\n",
    "cypherChain = GraphCypherQAChain.from_llm(\n",
    "    ChatOpenAI(temperature=0),\n",
    "    graph=kg,\n",
    "    verbose=True,\n",
    "    cypher_prompt=CYPHER_GENERATION_PROMPT,\n",
    ")\n",
    "\n",
    "def prettyCypherChain(question: str) -> str:\n",
    "    response = cypherChain.run(question)\n",
    "    print(textwrap.fill(response, 80))\n"
   ]
  },
  {
   "cell_type": "code",
   "execution_count": 6,
   "metadata": {},
   "outputs": [
    {
     "name": "stdout",
     "output_type": "stream",
     "text": [
      "\n",
      "\n",
      "\u001b[1m> Entering new GraphCypherQAChain chain...\u001b[0m\n",
      "Generated Cypher:\n",
      "\u001b[32;1m\u001b[1;3mMATCH (c:Company)\n",
      "RETURN c\u001b[0m\n",
      "Full Context:\n",
      "\u001b[32;1m\u001b[1;3m[{'c': {'cusip': '64110D104', 'names': ['Netapp Inc', 'NETAPP INC'], 'companyAddress': 'Headquarters Dr, San Jose, CA 95134, USA', 'companyName': 'NETAPP INC', 'cusip6': '64110D', 'location': POINT(-121.952086 37.4167918)}}, {'c': {'cusip': '697435105', 'names': ['Palo Alto Networks Inc.', 'PALO ALTO NETWORKS INC', 'PALO ALTO NETWORKS INC PUT', 'None'], 'companyAddress': '3000 Tannery Way, Santa Clara, CA 95054, USA', 'companyName': 'PALO ALTO NETWORKS INC', 'cusip6': '697435', 'location': POINT(-121.9828954 37.383283)}}, {'c': {'cusip': '31428X106', 'names': ['FedEx Corp', 'FEDEX CORP'], 'companyAddress': 'Delaware, USA', 'companyName': 'FEDEX CORP', 'cusip6': '31428X', 'location': POINT(-75.52766989999999 38.9108325)}}, {'c': {'cusip': '36241U106', 'names': ['GSI TECHNOLOGY INC'], 'companyAddress': '1213 Elko Dr, Sunnyvale, CA 94089, USA', 'companyName': 'GSI TECHNOLOGY INC', 'cusip6': '36241U', 'location': POINT(-121.9912079 37.4070019)}}, {'c': {'cusip': '65249B109', 'names': ['NEWS CORP   CLASS B', 'News Corp.', 'NEWS CORP NEW'], 'companyAddress': '1211 6th Ave, New York, NY 10036, USA', 'companyName': 'NEWS CORP NEW', 'cusip6': '65249B', 'location': POINT(-73.9821429 40.7584882)}}, {'c': {'cusip': '654106103', 'names': ['NIKE Inc.', 'NIKE INC'], 'companyAddress': 'Oregon, USA', 'companyName': 'NIKE INC', 'cusip6': '654106', 'location': POINT(-120.5542012 43.8041334)}}, {'c': {'cusip': '958102105', 'names': ['WESTERN DIGITAL CORP', 'WESTERN DIGITAL CORP.'], 'companyAddress': '109 Great Oaks Pkwy, San Jose, CA 95138, USA', 'companyName': 'WESTERN DIGITAL CORP.', 'cusip6': '958102', 'location': POINT(-121.7920645 37.24792900000001)}}, {'c': {'cusip': 'G7945J104', 'names': ['SEAGATE TECHNOLOGY'], 'companyAddress': '2445 Augustine Dr, Santa Clara, CA 95054, USA', 'companyName': 'SEAGATE TECHNOLOGY', 'cusip6': 'G7945J', 'location': POINT(-121.9694397 37.382589)}}, {'c': {'cusip': 'G06242104', 'names': ['ATLASSIAN CORP PLC', 'ATLASSIAN CORPORATION PLC'], 'companyAddress': '431 El Camino Real, Santa Clara, CA 95050, USA', 'companyName': 'ATLASSIAN CORP PLC', 'cusip6': 'G06242', 'location': POINT(-121.9323364 37.3472575)}}, {'c': {'cusip': '003783310', 'names': ['APPLE INC'], 'companyAddress': 'Cupertino, CA, USA', 'companyName': 'APPLE INC', 'cusip6': '003783', 'location': POINT(-122.0321823 37.3229978)}}]\u001b[0m\n",
      "\n",
      "\u001b[1m> Finished chain.\u001b[0m\n",
      "I know about several companies, including Netapp Inc, Palo Alto Networks Inc.,\n",
      "FedEx Corp, GSI Technology Inc, News Corp., Nike Inc., Western Digital Corp.,\n",
      "Seagate Technology, Atlassian Corp PLC, and Apple Inc.\n"
     ]
    }
   ],
   "source": [
    "prettyCypherChain(\"What companies do you know about?\")"
   ]
  },
  {
   "cell_type": "code",
   "execution_count": 7,
   "metadata": {},
   "outputs": [
    {
     "name": "stdout",
     "output_type": "stream",
     "text": [
      "\n",
      "\n",
      "\u001b[1m> Entering new GraphCypherQAChain chain...\u001b[0m\n",
      "Generated Cypher:\n",
      "\u001b[32;1m\u001b[1;3mMATCH (m:Manager)-[:OWNS_STOCK_IN]->(c:Company)\n",
      "RETURN DISTINCT m.managerName\u001b[0m\n",
      "Full Context:\n",
      "\u001b[32;1m\u001b[1;3m[{'m.managerName': 'CSS LLC/IL'}, {'m.managerName': 'BOKF, NA'}, {'m.managerName': 'BANK OF NOVA SCOTIA'}, {'m.managerName': 'Jefferies Financial Group Inc.'}, {'m.managerName': 'DEUTSCHE BANK AG\\\\'}, {'m.managerName': 'TORONTO DOMINION BANK'}, {'m.managerName': 'STATE BOARD OF ADMINISTRATION OF FLORIDA RETIREMENT SYSTEM'}, {'m.managerName': 'NISA INVESTMENT ADVISORS, LLC'}, {'m.managerName': 'ONTARIO TEACHERS PENSION PLAN BOARD'}, {'m.managerName': 'STATE STREET CORP'}]\u001b[0m\n",
      "\n",
      "\u001b[1m> Finished chain.\u001b[0m\n",
      "I know about CSS LLC/IL, BOKF, NA, BANK OF NOVA SCOTIA, Jefferies Financial\n",
      "Group Inc., DEUTSCHE BANK AG, TORONTO DOMINION BANK, STATE BOARD OF\n",
      "ADMINISTRATION OF FLORIDA RETIREMENT SYSTEM, NISA INVESTMENT ADVISORS, LLC,\n",
      "ONTARIO TEACHERS PENSION PLAN BOARD, and STATE STREET CORP. These are some\n",
      "investment firms that I am aware of.\n"
     ]
    }
   ],
   "source": [
    "prettyCypherChain(\"What investment firms do you know about?\")"
   ]
  },
  {
   "cell_type": "code",
   "execution_count": null,
   "metadata": {},
   "outputs": [],
   "source": [
    "prettyCypherChain(\"Where is Blackrock located?\")"
   ]
  },
  {
   "cell_type": "code",
   "execution_count": null,
   "metadata": {},
   "outputs": [],
   "source": [
    "prettyCypherChain(\"What is Blackrock's cik?\")"
   ]
  },
  {
   "cell_type": "code",
   "execution_count": null,
   "metadata": {},
   "outputs": [],
   "source": [
    "prettyCypherChain(\"What investment firms are in San Francisco?\")"
   ]
  },
  {
   "cell_type": "code",
   "execution_count": null,
   "metadata": {},
   "outputs": [],
   "source": [
    "prettyCypherChain(\"What investment firms are in New York?\")"
   ]
  },
  {
   "cell_type": "code",
   "execution_count": null,
   "metadata": {},
   "outputs": [],
   "source": [
    "cypherChain.run(\"What firms in San Francisco have the most investment value?\")"
   ]
  },
  {
   "cell_type": "code",
   "execution_count": null,
   "metadata": {},
   "outputs": [],
   "source": [
    "# Which state has the most public companies listed?\n",
    "kg.query(\"\"\"\n",
    "  MATCH p=(:Company)-[:LOCATED_AT]->(address:Address)\n",
    "  RETURN address.state as state, count(address.state) as numCompanies\n",
    "    ORDER BY numCompanies DESC\n",
    "\"\"\")"
   ]
  },
  {
   "cell_type": "code",
   "execution_count": null,
   "metadata": {},
   "outputs": [],
   "source": [
    "prettyCypherChain(\"Which state has the most public companies listed?\")"
   ]
  },
  {
   "cell_type": "code",
   "execution_count": null,
   "metadata": {},
   "outputs": [],
   "source": [
    "prettyCypherChain(\"How many public companies listed per state?\")"
   ]
  },
  {
   "cell_type": "code",
   "execution_count": null,
   "metadata": {},
   "outputs": [],
   "source": [
    "# Which city in California has the most companies listed?\n",
    "kg.query(\"\"\"\n",
    "  MATCH p=(:Company)-[:LOCATED_AT]->(address:Address)\n",
    "         WHERE address.state = 'California'\n",
    "  RETURN address.city as city, count(address.city) as numCompanies\n",
    "    ORDER BY numCompanies DESC\n",
    "\"\"\")"
   ]
  },
  {
   "cell_type": "code",
   "execution_count": null,
   "metadata": {},
   "outputs": [],
   "source": [
    "kg.query(\"\"\"\n",
    "  CALL db.index.fulltext.queryNodes(\"fullTextCompanyNames\", $companyName) \n",
    "    YIELD node, score\n",
    "  WITH node as com\n",
    "  RETURN com.location, com.companyAddress\n",
    "\"\"\", params={\"companyName\": \"Fedex\"})"
   ]
  },
  {
   "cell_type": "code",
   "execution_count": null,
   "metadata": {},
   "outputs": [],
   "source": [
    "# Which investment firms are near Fedex?\n",
    "kg.query(\"\"\"\n",
    "  CALL db.index.fulltext.queryNodes(\"fullTextCompanyNames\", $companyName) \n",
    "         YIELD node, score\n",
    "  WITH node as com\n",
    "  MATCH (mgr:Manager)\n",
    "    WHERE point.distance(mgr.location, com.location) < $withinMeters\n",
    "  WITH mgr, \n",
    "    toInteger(point.distance(mgr.location, com.location) / 1000) as distanceKm\n",
    "  RETURN mgr.managerName, mgr.managerAddress, \n",
    "        apoc.number.format(distanceKm) + \"km\" as distance\n",
    "\n",
    "\"\"\", params={\"companyName\": \"Fedex\", \"withinMeters\": 100 * 1000})"
   ]
  },
  {
   "cell_type": "code",
   "execution_count": null,
   "metadata": {},
   "outputs": [],
   "source": []
  }
 ],
 "metadata": {
  "kernelspec": {
   "display_name": "Python 3 (ipykernel)",
   "language": "python",
   "name": "python3"
  },
  "language_info": {
   "codemirror_mode": {
    "name": "ipython",
    "version": 3
   },
   "file_extension": ".py",
   "mimetype": "text/x-python",
   "name": "python",
   "nbconvert_exporter": "python",
   "pygments_lexer": "ipython3",
   "version": "3.11.6"
  }
 },
 "nbformat": 4,
 "nbformat_minor": 4
}
