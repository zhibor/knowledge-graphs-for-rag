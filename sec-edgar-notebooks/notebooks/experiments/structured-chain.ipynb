{
 "cells": [
  {
   "cell_type": "code",
   "execution_count": 2,
   "metadata": {},
   "outputs": [],
   "source": [
    "import os\n",
    "from dotenv import load_dotenv\n",
    "\n",
    "import googlemaps\n",
    "\n",
    "import textwrap\n",
    "\n",
    "from langchain_community.graphs import Neo4jGraph\n",
    "from langchain_community.graphs import Neo4jGraph\n",
    "from langchain_community.vectorstores import Neo4jVector\n",
    "from langchain_openai import OpenAIEmbeddings\n",
    "from langchain.chains import RetrievalQAWithSourcesChain\n",
    "from langchain_openai import ChatOpenAI\n",
    "from langchain_core.prompts import ChatPromptTemplate\n",
    "from langchain.prompts.prompt import PromptTemplate\n",
    "from langchain.chains import GraphCypherQAChain\n",
    "\n",
    "load_dotenv()\n",
    "\n",
    "NEO4J_URI = os.getenv('NEO4J_URI')\n",
    "NEO4J_USERNAME = os.getenv('NEO4J_USERNAME')\n",
    "NEO4J_PASSWORD = os.getenv('NEO4J_PASSWORD')\n",
    "NEO4J_DATABASE = os.getenv('NEO4J_DATABASE')\n",
    "\n",
    "OPENAI_API_KEY = os.getenv('OPENAI_API_KEY')\n",
    "\n",
    "# Global constants\n",
    "VECTOR_INDEX_NAME = 'form_10k_chunks'\n",
    "VECTOR_NODE_LABEL = 'Chunk'\n",
    "VECTOR_SOURCE_PROPERTY = 'text'\n",
    "VECTOR_EMBEDDING_PROPERTY = 'textEmbedding'\n",
    "\n",
    "GOOGLE_MAPS_API_KEY = os.getenv(\"GOOGLE_MAPS_API_KEY\")\n",
    "\n",
    "kg = Neo4jGraph(\n",
    "    url=NEO4J_URI, username=NEO4J_USERNAME, password=NEO4J_PASSWORD, database=NEO4J_DATABASE\n",
    ")\n",
    "\n",
    "gmaps = googlemaps.Client(key=GOOGLE_MAPS_API_KEY)\n"
   ]
  },
  {
   "cell_type": "code",
   "execution_count": null,
   "metadata": {},
   "outputs": [],
   "source": [
    "# Is Blackrock an investment firm in the database?\n",
    "kg.query(\"\"\"\n",
    "CALL db.index.fulltext.queryNodes(\"fullTextManagerNames\", \"Blackrock\") YIELD node, score\n",
    "RETURN node.managerName, score\n",
    "\"\"\")"
   ]
  },
  {
   "cell_type": "code",
   "execution_count": null,
   "metadata": {},
   "outputs": [],
   "source": [
    "# Where is Blackrock located?\n",
    "kg.query(\"\"\"\n",
    "  CALL db.index.fulltext.queryNodes(\"fullTextManagerNames\", \"Blackrock\") YIELD node, score\n",
    "  MATCH p=(node)-[:LOCATED_AT]->(address:Address)\n",
    "  RETURN p\n",
    "\"\"\")"
   ]
  },
  {
   "cell_type": "code",
   "execution_count": null,
   "metadata": {},
   "outputs": [],
   "source": [
    "# How many investment firms are at the same address as Blackrock?\n",
    "kg.query(\"\"\"\n",
    "  CALL db.index.fulltext.queryNodes(\"fullTextManagerNames\", \"Blackrock\") YIELD node, score\n",
    "  MATCH p=(node)-[:LOCATED_AT]->(address:Address)<-[:LOCATED_AT]-(other:Manager)\n",
    "  RETURN count(other) as numManagers\n",
    "\"\"\")"
   ]
  },
  {
   "cell_type": "code",
   "execution_count": null,
   "metadata": {},
   "outputs": [],
   "source": [
    "# Which state has the most investment firms?\n",
    "kg.query(\"\"\"\n",
    "  MATCH p=(:Manager)-[:LOCATED_AT]->(address:Address)\n",
    "  RETURN address.state as state, count(address.state) as numManagers\n",
    "    ORDER BY numManagers DESC\n",
    "    LIMIT 10\n",
    "\"\"\")"
   ]
  },
  {
   "cell_type": "code",
   "execution_count": null,
   "metadata": {},
   "outputs": [],
   "source": [
    "# What are the cities in California with the most investment firms?\n",
    "kg.query(\"\"\"\n",
    "  MATCH p=(:Manager)-[:LOCATED_AT]->(address:Address)\n",
    "         WHERE address.state = 'California'\n",
    "  RETURN address.city as city, count(address.city) as numManagers\n",
    "    ORDER BY numManagers DESC\n",
    "    LIMIT 10\n",
    "\"\"\")"
   ]
  },
  {
   "cell_type": "code",
   "execution_count": null,
   "metadata": {},
   "outputs": [],
   "source": [
    "# What are top investment firms in San Francisco?\n",
    "kg.query(\"\"\"\n",
    "  MATCH p=(mgr:Manager)-[:LOCATED_AT]->(address:Address),\n",
    "         (mgr)-[owns:OWNS_STOCK_IN]->(:Company)\n",
    "         WHERE address.city = $city\n",
    "            AND address.state = $state\n",
    "  RETURN mgr.managerName as city, sum(owns.value) as totalInvestmentValue\n",
    "    ORDER BY totalInvestmentValue DESC\n",
    "    LIMIT 10\n",
    "\"\"\", params={\"city\": \"San Francisco\", \"state\": \"California\"})"
   ]
  },
  {
   "cell_type": "code",
   "execution_count": null,
   "metadata": {},
   "outputs": [],
   "source": [
    "# Create a langchain vector store from the existing Neo4j knowledge graph.\n",
    "neo4j_vector_store = Neo4jVector.from_existing_graph(\n",
    "    embedding=OpenAIEmbeddings(),\n",
    "    url=NEO4J_URI,\n",
    "    username=NEO4J_USERNAME,\n",
    "    password=NEO4J_PASSWORD,\n",
    "    index_name=VECTOR_INDEX_NAME,\n",
    "    node_label=VECTOR_NODE_LABEL,\n",
    "    text_node_properties=[VECTOR_SOURCE_PROPERTY],\n",
    "    embedding_node_property=VECTOR_EMBEDDING_PROPERTY,\n",
    ")\n",
    "\n",
    "# Create a retriever from the vector store\n",
    "retriever = neo4j_vector_store.as_retriever()\n",
    "\n",
    "# Create a chatbot Question & Answer chain from the retriever\n",
    "chain = RetrievalQAWithSourcesChain.from_chain_type(\n",
    "    ChatOpenAI(temperature=0), chain_type=\"stuff\", retriever=retriever\n",
    ")\n",
    "\n",
    "def prettychain(question: str) -> str:\n",
    "    \"\"\"Pretty print the chain's response to a question\"\"\"\n",
    "    response = chain({\"question\": question},\n",
    "        return_only_outputs=True,)\n",
    "    print(textwrap.fill(response['answer'], 80))\n",
    "\n",
    "llm = ChatOpenAI(openai_api_key=OPENAI_API_KEY)\n",
    "\n",
    "def prettyllm(question: str) -> str:\n",
    "    \"\"\"Pretty print the chain's response to a question\"\"\"\n",
    "    response = llm.invoke(question)\n",
    "    print(textwrap.fill(response.content, 80))\n",
    "    # print(response.content)\n",
    "\n",
    "companyPrompt = ChatPromptTemplate.from_messages([\n",
    "    (\"system\", \"You are an industry analyst.\"),\n",
    "    (\"user\", \"{input}\")\n",
    "])\n",
    "\n",
    "companyChain = companyPrompt | llm\n",
    "\n",
    "def prettyCompanyChain(question:str) -> str:\n",
    "    response = companyChain.invoke({\"input\":question})\n",
    "    print(textwrap.fill(response.content, 80))\n"
   ]
  },
  {
   "cell_type": "code",
   "execution_count": null,
   "metadata": {},
   "outputs": [],
   "source": [
    "structured_summary_retrieval_query = \"\"\"\n",
    "MATCH (mgr:Manager)-[owns:OWNS_STOCK_IN]->(com:Company),\n",
    "    (mgr:Manager)-[:LOCATED_AT]->(address:Address)\n",
    "WITH mgr, owns, com, address ORDER BY owns.shares DESC LIMIT 10\n",
    "WITH \n",
    "    mgr.managerName + \" owns \" + owns.shares + \" of \" + com.companyName + \n",
    "    \" at a value of $\" + apoc.number.format(owns.value) + \". \" +\n",
    "    mgr.managerName + \" is located in \" + address.city + \", \" + address.state + \". \" \n",
    "    AS sentence\n",
    "WITH collect(sentence) AS sentences\n",
    "RETURN apoc.text.join(sentences, \"\\n\") + \"\\n\"  AS text,\n",
    "        1.0 as score,\n",
    "        {\n",
    "            type: \"structured_summary\",\n",
    "            source: \"cypher\"\n",
    "        } as metadata\n",
    "\"\"\"\n",
    "\n",
    "\n",
    "structured_summary_vector_store = Neo4jVector.from_existing_index(\n",
    "    embedding=OpenAIEmbeddings(),\n",
    "    url=NEO4J_URI,\n",
    "    username=NEO4J_USERNAME,\n",
    "    password=NEO4J_PASSWORD,\n",
    "    database=\"neo4j\",\n",
    "    index_name=VECTOR_INDEX_NAME,\n",
    "    text_node_property=VECTOR_SOURCE_PROPERTY,\n",
    "    retrieval_query=structured_summary_retrieval_query,\n",
    ")\n",
    "\n",
    "# Create a retriever from the vector store\n",
    "structured_retriever = structured_summary_vector_store.as_retriever()\n",
    "\n",
    "# Create a chatbot Question & Answer chain from the retriever\n",
    "structured_chain = RetrievalQAWithSourcesChain.from_chain_type(\n",
    "    ChatOpenAI(temperature=0), chain_type=\"stuff\", retriever=structured_retriever\n",
    ")\n",
    "\n",
    "def prettyStructuredChain(question: str) -> str:\n",
    "    response = structured_chain({\"question\": question},\n",
    "        return_only_outputs=True,)\n",
    "    print(textwrap.fill(response['answer'], 80))"
   ]
  },
  {
   "cell_type": "code",
   "execution_count": null,
   "metadata": {},
   "outputs": [],
   "source": [
    "prettyStructuredChain(\"What are the top 10 investment firms in San Francisco?\")"
   ]
  },
  {
   "cell_type": "code",
   "execution_count": null,
   "metadata": {},
   "outputs": [],
   "source": [
    "CYPHER_GENERATION_TEMPLATE = \"\"\"Task:Generate Cypher statement to query a graph database.\n",
    "Instructions:\n",
    "Use only the provided relationship types and properties in the schema.\n",
    "Do not use any other relationship types or properties that are not provided.\n",
    "Schema:\n",
    "{schema}\n",
    "Note: Do not include any explanations or apologies in your responses.\n",
    "Do not respond to any questions that might ask anything else than for you to construct a Cypher statement.\n",
    "Do not include any text except the generated Cypher statement.\n",
    "Examples: Here are a few examples of generated Cypher statements for particular questions:\n",
    "# What investment firms are in San Francisco?\n",
    "MATCH (m:Manager)-[:LOCATED_AT]->(a:Address)\n",
    "    WHERE a.city = 'San Francisco'\n",
    "RETURN m.managerName\n",
    "\n",
    "# What firms in San Francisco have the most investments?\n",
    "MATCH (m:Manager)-[:LOCATED_AT]->(a:Address),\n",
    "        (m:Manager)-[owns:OWNS_STOCK_IN]->(c:Company)\n",
    "    WHERE a.city = 'San Francisco'\n",
    "WITH m, sum(owns.value) as totalInvestmentValue\n",
    "RETURN m.managerName + \" owns $\" + apoc.number.format(totalInvestmentValue) + \" worth of shares.\"\n",
    "\n",
    "\n",
    "The question is:\n",
    "{question}\"\"\"\n",
    "\n",
    "CYPHER_GENERATION_PROMPT = PromptTemplate(\n",
    "    input_variables=[\"schema\", \"question\"], template=CYPHER_GENERATION_TEMPLATE\n",
    ")\n",
    "\n",
    "cypherChain = GraphCypherQAChain.from_llm(\n",
    "    ChatOpenAI(temperature=0),\n",
    "    graph=kg,\n",
    "    verbose=True,\n",
    "    cypher_prompt=CYPHER_GENERATION_PROMPT,\n",
    ")\n",
    "\n",
    "def prettyCypherChain(question: str) -> str:\n",
    "    response = cypherChain.run(question)\n",
    "    print(textwrap.fill(response, 80))\n"
   ]
  },
  {
   "cell_type": "code",
   "execution_count": null,
   "metadata": {},
   "outputs": [],
   "source": [
    "prettyCypherChain(\"What investment firms are in San Francisco?\")"
   ]
  },
  {
   "cell_type": "code",
   "execution_count": null,
   "metadata": {},
   "outputs": [],
   "source": [
    "prettyCypherChain(\"What investment firms are in New York?\")"
   ]
  },
  {
   "cell_type": "code",
   "execution_count": null,
   "metadata": {},
   "outputs": [],
   "source": [
    "cypherChain.run(\"What firms in San Francisco have the most investments?\")"
   ]
  },
  {
   "cell_type": "code",
   "execution_count": null,
   "metadata": {},
   "outputs": [],
   "source": [
    "prettyCompanyChain(\"In a single sentence, what is is Fedex's industry segment?\")"
   ]
  },
  {
   "cell_type": "code",
   "execution_count": null,
   "metadata": {},
   "outputs": [],
   "source": [
    "prettyllm(\"What is the address of Blackrock?\")\n"
   ]
  },
  {
   "cell_type": "code",
   "execution_count": null,
   "metadata": {},
   "outputs": [],
   "source": [
    "prettychain(\"What companies do you know about?\")"
   ]
  },
  {
   "cell_type": "code",
   "execution_count": null,
   "metadata": {},
   "outputs": [],
   "source": [
    "prettychain(\"What companies are in San Jose?\")"
   ]
  },
  {
   "cell_type": "code",
   "execution_count": null,
   "metadata": {},
   "outputs": [],
   "source": [
    "prettychain(\"What is the address of Blackrock?\")"
   ]
  },
  {
   "cell_type": "code",
   "execution_count": null,
   "metadata": {},
   "outputs": [],
   "source": [
    "prettychain(\"Where is Netapp headquartered?\")"
   ]
  },
  {
   "cell_type": "code",
   "execution_count": null,
   "metadata": {},
   "outputs": [],
   "source": [
    "prettychain(\"What companies are headquartered in San Jose?\")"
   ]
  },
  {
   "cell_type": "code",
   "execution_count": null,
   "metadata": {},
   "outputs": [],
   "source": [
    "prettychain(\"In a single sentence, what is Netapp's industry segment?\")"
   ]
  },
  {
   "cell_type": "code",
   "execution_count": null,
   "metadata": {},
   "outputs": [],
   "source": [
    "company_rows = kg.query(\"\"\"\n",
    "  MATCH (com:Company)\n",
    "  RETURN com { .cusip6, .companyName } as company\n",
    "\"\"\")\n",
    "\n",
    "companies = list(map(lambda row: row['company'], company_rows))\n",
    "\n",
    "print(companies[0])"
   ]
  },
  {
   "cell_type": "code",
   "execution_count": null,
   "metadata": {},
   "outputs": [],
   "source": [
    "set_company_location_cypher = \"\"\"\n",
    "  MATCH (com:Company {cusip6: $cusip6})\n",
    "  SET com.companyAddress = $companyAddress\n",
    "  SET com.location = point({latitude: $latitude, longitude: $longitude})\n",
    "  MERGE (addr:Address {city: $city, state: $state})\n",
    "  MERGE (com)-[:LOCATED_AT]->(addr)\n",
    "\"\"\"\n",
    "for company in companies:\n",
    "    result = chain(f\"Where is {company['companyName']} headquartered?\")\n",
    "    address_statement = result['answer']\n",
    "    address_geocodes = gmaps.geocode(address_statement)\n",
    "    if len(address_geocodes) > 0:\n",
    "        address_geocode = address_geocodes[0]\n",
    "\n",
    "        print(f\"{company['companyName']} is located at {address_geocode['formatted_address']}\")\n",
    "\n",
    "        cusip6 = company['cusip6']\n",
    "\n",
    "        location = get_location(address_geocode)\n",
    "        city = get_city(address_geocode)\n",
    "        state = get_state(address_geocode)\n",
    "        country = get_country(address_geocode)\n",
    "\n",
    "        cityOrState = city if city else state\n",
    "        stateOrCountry = state if state else country \n",
    "\n",
    "        if location and cityOrState and stateOrCountry:\n",
    "            kg.query(set_company_location_cypher, params={\n",
    "                \"companyAddress\": address_geocode['formatted_address'],\n",
    "                \"cusip6\": company['cusip6'],\n",
    "                \"latitude\": location['lat'],\n",
    "                \"longitude\": location['lng'],\n",
    "                \"city\": cityOrState['long_name'],\n",
    "                \"state\": stateOrCountry['long_name']\n",
    "            })\n",
    "    else:\n",
    "        print(f\"no geocode found for {company['companyName']} at {address_statement}\")"
   ]
  },
  {
   "cell_type": "code",
   "execution_count": null,
   "metadata": {},
   "outputs": [],
   "source": [
    "# Which state has the most public companies listed?\n",
    "kg.query(\"\"\"\n",
    "  MATCH p=(:Company)-[:LOCATED_AT]->(address:Address)\n",
    "  RETURN address.state as state, count(address.state) as numCompanies\n",
    "    ORDER BY numCompanies DESC\n",
    "\"\"\")"
   ]
  },
  {
   "cell_type": "code",
   "execution_count": null,
   "metadata": {},
   "outputs": [],
   "source": [
    "# Which city in California has the most companies listed?\n",
    "kg.query(\"\"\"\n",
    "  MATCH p=(:Company)-[:LOCATED_AT]->(address:Address)\n",
    "         WHERE address.state = 'California'\n",
    "  RETURN address.city as city, count(address.city) as numCompanies\n",
    "    ORDER BY numCompanies DESC\n",
    "\"\"\")"
   ]
  },
  {
   "cell_type": "code",
   "execution_count": null,
   "metadata": {},
   "outputs": [],
   "source": [
    "kg.query(\"\"\"\n",
    "  CALL db.index.fulltext.queryNodes(\"fullTextCompanyNames\", $companyName) \n",
    "    YIELD node, score\n",
    "  WITH node as com\n",
    "  RETURN com.location, com.companyAddress\n",
    "\"\"\", params={\"companyName\": \"Fedex\"})"
   ]
  },
  {
   "cell_type": "code",
   "execution_count": null,
   "metadata": {},
   "outputs": [],
   "source": [
    "# Which investment firms are near Fedex?\n",
    "kg.query(\"\"\"\n",
    "  CALL db.index.fulltext.queryNodes(\"fullTextCompanyNames\", $companyName) \n",
    "         YIELD node, score\n",
    "  WITH node as com\n",
    "  MATCH (mgr:Manager)\n",
    "    WHERE point.distance(mgr.location, com.location) < $withinMeters\n",
    "  WITH mgr, \n",
    "    toInteger(point.distance(mgr.location, com.location) / 1000) as distanceKm\n",
    "  RETURN mgr.managerName, mgr.managerAddress, \n",
    "        apoc.number.format(distanceKm) + \"km\" as distance\n",
    "\n",
    "\"\"\", params={\"companyName\": \"Fedex\", \"withinMeters\": 100 * 1000})"
   ]
  },
  {
   "cell_type": "code",
   "execution_count": null,
   "metadata": {},
   "outputs": [],
   "source": []
  }
 ],
 "metadata": {
  "kernelspec": {
   "display_name": "kg-query-patterns-fsqh8llA-py3.11",
   "language": "python",
   "name": "python3"
  },
  "language_info": {
   "codemirror_mode": {
    "name": "ipython",
    "version": 3
   },
   "file_extension": ".py",
   "mimetype": "text/x-python",
   "name": "python",
   "nbconvert_exporter": "python",
   "pygments_lexer": "ipython3",
   "version": "3.11.6"
  }
 },
 "nbformat": 4,
 "nbformat_minor": 2
}
