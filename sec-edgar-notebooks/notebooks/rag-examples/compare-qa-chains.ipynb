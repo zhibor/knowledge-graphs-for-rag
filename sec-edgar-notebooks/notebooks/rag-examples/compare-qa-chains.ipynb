{
 "cells": [
  {
   "cell_type": "markdown",
   "metadata": {},
   "source": [
    "# Compare Question Answering Chains\n"
   ]
  },
  {
   "cell_type": "markdown",
   "metadata": {},
   "source": [
    "## Setup\n",
    "\n",
    "- import python libaries\n",
    "- connect to Neo4j\n",
    "- create QA chains"
   ]
  },
  {
   "cell_type": "code",
   "execution_count": null,
   "metadata": {},
   "outputs": [],
   "source": [
    "from dotenv import load_dotenv\n",
    "import os\n",
    "import textwrap\n",
    "\n",
    "# Langchain\n",
    "from langchain_community.graphs import Neo4jGraph\n",
    "from langchain_community.vectorstores import Neo4jVector\n",
    "from langchain_openai import OpenAIEmbeddings\n",
    "from langchain.chains import RetrievalQAWithSourcesChain\n",
    "from langchain_openai import ChatOpenAI\n",
    "from langchain.prompts.prompt import PromptTemplate\n",
    "from langchain.chains import GraphCypherQAChain\n",
    "\n",
    "# Load from environment\n",
    "load_dotenv('.env', override=True)\n",
    "NEO4J_URI = os.getenv('NEO4J_URI')\n",
    "NEO4J_USERNAME = os.getenv('NEO4J_USERNAME')\n",
    "NEO4J_PASSWORD = os.getenv('NEO4J_PASSWORD')\n",
    "NEO4J_DATABASE = os.getenv('NEO4J_DATABASE') or 'neo4j'\n",
    "OPENAI_API_KEY = os.getenv('OPENAI_API_KEY')\n",
    "\n",
    "# Global constants\n",
    "VECTOR_INDEX_NAME = 'form_10k_chunks'\n",
    "VECTOR_NODE_LABEL = 'Chunk'\n",
    "VECTOR_SOURCE_PROPERTY = 'text'\n",
    "VECTOR_EMBEDDING_PROPERTY = 'textEmbedding'\n"
   ]
  },
  {
   "cell_type": "code",
   "execution_count": null,
   "metadata": {},
   "outputs": [],
   "source": [
    "print(f\"Connecting to Neo4j at {NEO4J_URI} as {NEO4J_USERNAME}\")\n",
    "\n",
    "# Create a knowledge graph using Langchain's Neo4j integration.\n",
    "# This will be used for direct querying of the knowledge graph. \n",
    "kg = Neo4jGraph(\n",
    "    url=NEO4J_URI, username=NEO4J_USERNAME, password=NEO4J_PASSWORD, database=NEO4J_DATABASE\n",
    ")\n",
    "\n",
    "# OpenAI for creating embeddings\n",
    "embeddings_model = OpenAIEmbeddings()\n"
   ]
  },
  {
   "cell_type": "code",
   "execution_count": null,
   "metadata": {},
   "outputs": [],
   "source": [
    "def prettifyChain(chain):\n",
    "    \"\"\" Pretty print the chain response, returning the response as well. \"\"\"\n",
    "    def prettychain(question:str):\n",
    "      response = chain({\"question\": question},return_only_outputs=True,)\n",
    "      print(textwrap.fill(response['answer'], 80))\n",
    "    return prettychain"
   ]
  },
  {
   "cell_type": "markdown",
   "metadata": {},
   "source": [
    "## Vector search"
   ]
  },
  {
   "cell_type": "code",
   "execution_count": null,
   "metadata": {},
   "outputs": [],
   "source": [
    "\n",
    "retrieval_query_sources = \"\"\"\n",
    "MATCH (node)-[:PART_OF]->(form:Form)\n",
    "RETURN node.text as text,\n",
    "    score,\n",
    "    form {.source} AS metadata\n",
    "\"\"\"\n",
    "\n",
    "# Create a langchain vector store from the existing Neo4j knowledge graph.\n",
    "vector_store_search = Neo4jVector.from_existing_graph(\n",
    "    embedding=embeddings_model,\n",
    "    url=NEO4J_URI,\n",
    "    username=NEO4J_USERNAME,\n",
    "    password=NEO4J_PASSWORD,\n",
    "    index_name=VECTOR_INDEX_NAME,\n",
    "    node_label=VECTOR_NODE_LABEL,\n",
    "    text_node_properties=[VECTOR_SOURCE_PROPERTY],\n",
    "    embedding_node_property=VECTOR_EMBEDDING_PROPERTY,\n",
    "    retrieval_query=retrieval_query_sources\n",
    ")\n",
    "vector_search_qa = prettifyChain(RetrievalQAWithSourcesChain.from_chain_type(\n",
    "    ChatOpenAI(temperature=0), \n",
    "    chain_type=\"stuff\", \n",
    "    retriever=vector_store_search.as_retriever()\n",
    "))"
   ]
  },
  {
   "cell_type": "markdown",
   "metadata": {},
   "source": [
    "## Vector search examples"
   ]
  },
  {
   "cell_type": "code",
   "execution_count": null,
   "metadata": {},
   "outputs": [],
   "source": [
    "vector_search_qa(\"Where is Netapp headquartered?\")"
   ]
  },
  {
   "cell_type": "code",
   "execution_count": null,
   "metadata": {},
   "outputs": [],
   "source": [
    "vector_search_qa(\"What is Netapp's primary business?\")"
   ]
  },
  {
   "cell_type": "code",
   "execution_count": null,
   "metadata": {},
   "outputs": [],
   "source": [
    "vector_search_qa(\"Who is Netapp's primary investor?\")"
   ]
  },
  {
   "cell_type": "code",
   "execution_count": null,
   "metadata": {},
   "outputs": [],
   "source": [
    "vector_search_qa(\"What are Netapp's main products?\")"
   ]
  },
  {
   "cell_type": "markdown",
   "metadata": {},
   "source": [
    "## Vector search with window"
   ]
  },
  {
   "cell_type": "code",
   "execution_count": null,
   "metadata": {},
   "outputs": [],
   "source": [
    "retrieval_query_window = \"\"\"\n",
    "MATCH window=\n",
    "    (:Chunk)-[:NEXT*0..1]->(node)-[:NEXT*0..1]->(:Chunk)\n",
    "WITH node, score, window as longestWindow \n",
    "  ORDER BY length(window) DESC LIMIT 1\n",
    "WITH nodes(longestWindow) as chunkList, node, score\n",
    "  UNWIND chunkList as chunkRows\n",
    "WITH collect(chunkRows.text) as textList, node, score\n",
    "RETURN apoc.text.join(textList, \" \\n \") as text,\n",
    "    score,\n",
    "    node {.source} AS metadata\n",
    "\"\"\"\n",
    "\n",
    "vector_store_window = Neo4jVector.from_existing_index(\n",
    "    embedding=OpenAIEmbeddings(),\n",
    "    url=NEO4J_URI,\n",
    "    username=NEO4J_USERNAME,\n",
    "    password=NEO4J_PASSWORD,\n",
    "    database=\"neo4j\",\n",
    "    index_name=VECTOR_INDEX_NAME,\n",
    "    text_node_property=VECTOR_SOURCE_PROPERTY,\n",
    "    retrieval_query=retrieval_query_window\n",
    ")\n",
    "window_qa = prettifyChain(RetrievalQAWithSourcesChain.from_chain_type(\n",
    "    ChatOpenAI(temperature=0), \n",
    "    chain_type=\"stuff\", \n",
    "    retriever=vector_store_window.as_retriever()\n",
    "))\n",
    "\n",
    "def compare_search_qa(question:str):\n",
    "  print(\"Vector search then return single result...\")\n",
    "  vector_search_qa(question)\n",
    "  print(\"\\n\")\n",
    "  print(\"Vector search, then return a window of results...\")\n",
    "  window_qa(question)"
   ]
  },
  {
   "cell_type": "code",
   "execution_count": null,
   "metadata": {},
   "outputs": [],
   "source": [
    "compare_search_qa(\"What is most important to Netapp's business?\")"
   ]
  },
  {
   "cell_type": "markdown",
   "metadata": {},
   "source": [
    "## Mixed Text and Data examples"
   ]
  },
  {
   "cell_type": "code",
   "execution_count": null,
   "metadata": {},
   "outputs": [],
   "source": [
    "investment_retrieval_query = \"\"\"\n",
    "MATCH (node)-[:PART_OF]->(f:Form),\n",
    "    (f)<-[:FILED]-(com:Company),\n",
    "    (com)<-[owns:OWNS_STOCK_IN]-(mgr:Manager)\n",
    "WITH node, score, mgr, owns, com \n",
    "    ORDER BY owns.shares DESC LIMIT 10\n",
    "WITH collect (\n",
    "    mgr.name + \n",
    "    \" owns \" + owns.shares + \" of \" + com.name + \n",
    "    \" at a value of $\" + apoc.number.format(owns.value) + \".\" \n",
    ") AS investment_statements, com, node, score\n",
    "RETURN apoc.text.join(investment_statements, \"\\n\") + \n",
    "    \"\\n\" + \"About \" + com.name + \"... \" + node.text AS text,\n",
    "    score,\n",
    "    { \n",
    "      source: node.source\n",
    "    } as metadata\n",
    "\"\"\"\n",
    "\n",
    "vector_store_with_investment = Neo4jVector.from_existing_index(\n",
    "    embeddings_model,\n",
    "    url=NEO4J_URI,\n",
    "    username=NEO4J_USERNAME,\n",
    "    password=NEO4J_PASSWORD,\n",
    "    database=\"neo4j\",\n",
    "    index_name=VECTOR_INDEX_NAME,\n",
    "    text_node_property=VECTOR_SOURCE_PROPERTY,\n",
    "    retrieval_query=investment_retrieval_query,\n",
    ")\n",
    "mixed_text_data_qa = prettifyChain(RetrievalQAWithSourcesChain.from_chain_type(\n",
    "    ChatOpenAI(temperature=0), \n",
    "    chain_type=\"stuff\", \n",
    "    retriever=vector_store_with_investment.as_retriever()\n",
    "))\n",
    "\n",
    "def compare_mixed_qa(question:str):\n",
    "  print(\"Vector search then return single result...\")\n",
    "  vector_search_qa(question)\n",
    "  print(\"\\n\")\n",
    "  print(\"Vector search, then return a window of results...\")\n",
    "  window_qa(question)\n",
    "  print(\"\\n\")\n",
    "  print(\"Vector search, then pattern match (:Chunk)-->(:Form)<--(:Company)<--(:Manager)...\")\n",
    "  mixed_text_data_qa(question)"
   ]
  },
  {
   "cell_type": "code",
   "execution_count": null,
   "metadata": {},
   "outputs": [],
   "source": [
    "compare_mixed_qa(\"Who are Netapp's top investors?\")"
   ]
  },
  {
   "cell_type": "markdown",
   "metadata": {},
   "source": [
    "## Text to Cypher examples"
   ]
  },
  {
   "cell_type": "code",
   "execution_count": null,
   "metadata": {},
   "outputs": [],
   "source": [
    "CYPHER_GENERATION_TEMPLATE = \"\"\"Task:Generate Cypher statement to query a graph database.\n",
    "Instructions:\n",
    "Use only the provided relationship types and properties in the schema.\n",
    "Do not use any other relationship types or properties that are not provided.\n",
    "Schema:\n",
    "{schema}\n",
    "Note: Do not include any explanations or apologies in your responses.\n",
    "Do not respond to any questions that might ask anything else than for you to construct a Cypher statement.\n",
    "Do not include any text except the generated Cypher statement.\n",
    "Examples: Here are a few examples of generated Cypher statements for particular questions:\n",
    "\n",
    "# Which city in California has the most companies listed?\n",
    "MATCH p=(:Company)-[:LOCATED_AT]->(address:Address)\n",
    "        WHERE address.state = 'California'\n",
    "RETURN address.city as city, count(address.city) as numCompanies\n",
    "  ORDER BY numCompanies DESC\n",
    "\n",
    "# What are the cities in California with the most investment firms?\n",
    "MATCH p=(:Manager)-[:LOCATED_AT]->(address:Address)\n",
    "        WHERE address.state = 'California'\n",
    "RETURN address.city as city, count(address.city) as numManagers\n",
    "  ORDER BY numManagers DESC\n",
    "  LIMIT 10\n",
    "\n",
    "# How many investment firms are in Los Angeles?\n",
    "MATCH p=(:Manager)-[:LOCATED_AT]->(address:Address)\n",
    "        WHERE address.city = 'Los Angeles'\n",
    "RETURN count(*) as numManagers\n",
    "\n",
    "# What investment firms are in San Francisco?\n",
    "MATCH (mgr:Manager)-[:LOCATED_AT]->(mgrAddress:Address)\n",
    "    WHERE mgrAddress.city = 'San Francisco'\n",
    "RETURN mgr.name\n",
    "\n",
    "# List the top 10 investment firms in San Francisco.\n",
    "MATCH p=(mgr:Manager)-[:LOCATED_AT]->(address:Address),\n",
    "        (mgr)-[owns:OWNS_STOCK_IN]->(:Company)\n",
    "        WHERE address.city = \"San Francisco\"\n",
    "RETURN mgr.name as firm, sum(owns.value) as totalInvestmentValue\n",
    "  ORDER BY totalInvestmentValue DESC\n",
    "  LIMIT 10\n",
    "\n",
    "# Who are Netapp's top investors?\n",
    "CALL db.index.fulltext.queryNodes(\n",
    "        \"fullTextCompanyNames\", \n",
    "        \"Netapp\"\n",
    "        ) YIELD node, score\n",
    "WITH node as com\n",
    "MATCH p=(mgr:Manager)-[owns:OWNS_STOCK_IN]->(com)\n",
    "RETURN mgr.name as firm, sum(owns.value) as totalInvestmentValue\n",
    "  ORDER BY totalInvestmentValue DESC\n",
    "  LIMIT 10\n",
    "\n",
    "# What companies are in Santa Clara?\n",
    "MATCH (com:Company)-[:LOCATED_AT]->(comAddress:Address)\n",
    "    WHERE comAddress.city = 'Santa Clara'\n",
    "RETURN com.name\n",
    "\n",
    "# What investment firms are near Santa Clara?\n",
    "  MATCH (address:Address)\n",
    "    WHERE address.city = \"Santa Clara\"\n",
    "  MATCH (mgr:Manager)-[:LOCATED_AT]->(managerAddress:Address)\n",
    "    WHERE point.distance(address.location, managerAddress.location) < 20 * 1000\n",
    "  RETURN mgr.name, mgr.address\n",
    "\n",
    "# Where are Netapp's top investors located?\n",
    "CALL db.index.fulltext.queryNodes(\n",
    "        \"fullTextCompanyNames\", \n",
    "        \"Palo Aalto Networks\"\n",
    "        ) YIELD node, score\n",
    "WITH node as com\n",
    "MATCH (mgr:Manager)-[owns:OWNS_STOCK_IN]->(com),\n",
    "  (mgr)-[:LOCATED_AT]->(mgrAddress:Address)\n",
    "RETURN mgr.name as firm, mgrAddress, sum(owns.value) as totalInvestmentValue\n",
    "  ORDER BY totalInvestmentValue DESC\n",
    "  LIMIT 10\n",
    "\n",
    "# Which investment firms are near Palo Aalto Networks?\n",
    "  CALL db.index.fulltext.queryNodes(\n",
    "         \"fullTextCompanyNames\", \n",
    "         \"Palo Aalto Networks\"\n",
    "         ) YIELD node, score\n",
    "  WITH node as com\n",
    "  MATCH (com)-[:LOCATED_AT]->(comAddress:Address),\n",
    "    (mgr:Manager)-[:LOCATED_AT]->(mgrAddress:Address)\n",
    "    WHERE point.distance(comAddress.location, mgrAddress.location) < 20 * 1000\n",
    "  RETURN mgr, \n",
    "    toInteger(point.distance(comAddress.location, mgrAddress.location) / 1000) as distanceKm\n",
    "    ORDER BY distanceKm ASC\n",
    "    LIMIT 10\n",
    "  \n",
    "The question is:\n",
    "{question}\"\"\"\n",
    "CYPHER_GENERATION_PROMPT = PromptTemplate(\n",
    "    input_variables=[\"schema\", \"question\"], template=CYPHER_GENERATION_TEMPLATE\n",
    ")\n",
    "\n",
    "cypherChain = GraphCypherQAChain.from_llm(\n",
    "    ChatOpenAI(temperature=0),\n",
    "    graph=kg,\n",
    "    verbose=False, # Change this to True to see the generated Cypher statement\n",
    "    cypher_prompt=CYPHER_GENERATION_PROMPT,\n",
    ")\n",
    "\n",
    "\n",
    "def compare_all_qa(question:str):\n",
    "  print(\"Vector search...\")\n",
    "  vector_search_qa(question)\n",
    "  print(\"\\n\")\n",
    "  print(\"Vector search with result windows...\")\n",
    "  window_qa(question)\n",
    "  print(\"\\n\")\n",
    "  print(\"Vector search and graph pattern match...\")\n",
    "  mixed_text_data_qa(question)\n",
    "  print(\"\\n\")\n",
    "  print(\"Text to cypher...\")\n",
    "  cypherResult = cypherChain(question)\n",
    "  print(textwrap.fill(cypherResult['result'], 80))"
   ]
  },
  {
   "cell_type": "markdown",
   "metadata": {},
   "source": [
    "## Compare all Question Answering Approaches\n",
    "\n",
    "1. Vector search\n",
    "2. Vector search with result windows\n",
    "3. Vector search and graph pattern match `(:Chunk)-->(:Form)<--(:Company)<--(:Manager)`\n",
    "4. Text to Cypher, generating a query from the user question"
   ]
  },
  {
   "cell_type": "code",
   "execution_count": null,
   "metadata": {},
   "outputs": [],
   "source": [
    "compare_all_qa(\"What is most important to Netapp's business?\")"
   ]
  },
  {
   "cell_type": "code",
   "execution_count": null,
   "metadata": {},
   "outputs": [],
   "source": [
    "compare_all_qa(\"Who are Netapp's top investors?\")"
   ]
  },
  {
   "cell_type": "code",
   "execution_count": null,
   "metadata": {},
   "outputs": [],
   "source": [
    "compare_all_qa(\"Where are Netapp's top investors located?\")"
   ]
  },
  {
   "cell_type": "code",
   "execution_count": null,
   "metadata": {},
   "outputs": [],
   "source": [
    "compare_all_qa(\"What investment firms are in San Francisco?\")"
   ]
  },
  {
   "cell_type": "code",
   "execution_count": null,
   "metadata": {},
   "outputs": [],
   "source": [
    "compare_all_qa(\"List the top 10 investment firms in San Francisco.\")"
   ]
  },
  {
   "cell_type": "code",
   "execution_count": null,
   "metadata": {},
   "outputs": [],
   "source": [
    "compare_all_qa(\"Which city in California has the most companies listed?\")"
   ]
  },
  {
   "cell_type": "code",
   "execution_count": null,
   "metadata": {},
   "outputs": [],
   "source": [
    "compare_all_qa(\"What companies are in Santa Clara?\")"
   ]
  },
  {
   "cell_type": "code",
   "execution_count": null,
   "metadata": {},
   "outputs": [],
   "source": [
    "compare_all_qa(\"Where is Palo Alto Networks headquartered?\")"
   ]
  },
  {
   "cell_type": "code",
   "execution_count": null,
   "metadata": {},
   "outputs": [],
   "source": [
    "compare_all_qa(\"Which investment firms are near Palo Aalto Networks?\")"
   ]
  },
  {
   "cell_type": "code",
   "execution_count": null,
   "metadata": {},
   "outputs": [],
   "source": [
    "compare_all_qa(\"Where is Blackrock headquartered?\")"
   ]
  },
  {
   "cell_type": "code",
   "execution_count": null,
   "metadata": {},
   "outputs": [],
   "source": []
  }
 ],
 "metadata": {
  "kernelspec": {
   "display_name": "sec-edgar-notebooks-kbYC_H7G-py3.11",
   "language": "python",
   "name": "python3"
  },
  "language_info": {
   "codemirror_mode": {
    "name": "ipython",
    "version": 3
   },
   "file_extension": ".py",
   "mimetype": "text/x-python",
   "name": "python",
   "nbconvert_exporter": "python",
   "pygments_lexer": "ipython3",
   "version": "3.11.6"
  }
 },
 "nbformat": 4,
 "nbformat_minor": 2
}
