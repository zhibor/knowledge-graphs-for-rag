{
 "cells": [
  {
   "cell_type": "markdown",
   "metadata": {
    "collapsed": false,
    "jupyter": {
     "outputs_hidden": false
    }
   },
   "source": [
    "# Expand Context\n",
    "\n",
    "The Form 10k Chunk Nodes are individual chunks of text that used\n",
    "to be part of an entire document.\n",
    "\n",
    "You can reconstruct the original context by connecting the nodes\n",
    "with relationships. It also makes the data easy to navigate and understand.\n",
    "\n",
    "That is super helpful when you're building an application, for debugging and testing.\n",
    "\n",
    "And, you can provide a better user experience. Your users will be able \n",
    "to directly interact with the data and even provide feedback that will\n",
    "improve subsequent answers. \n",
    "\n",
    "You will create a connected context by making the following\n",
    "changes to the knowledge graph:\n",
    "\n",
    "1. Extract, create `(:Form)` nodes for each original source Form.\n",
    "2. Enhance, add a summarized text property to each `(:Form)` node.\n",
    "3. Expand, connect each `(:Chunk)` to the `(:Form)` node that it is part of\n",
    "\n",
    "The graph will look like this...\n",
    "\n",
    "```cypher\n",
    "(:Form \n",
    "  formId: string //  a unique identifier for the form\n",
    "  cik: int // the Central Index Key for the company that filed the form\n",
    "  cusip6: string // the CUSIP identifier for the company\n",
    "  source: string // a link back to the original 10k document\n",
    "  summary: string // text summary generated with the LLM \n",
    "  summaryEmbeddings: float[] // vector embedding of summary\n",
    ")\n",
    "```\n",
    "\n",
    "```cypher\n",
    "// Chunks are part of a Form\n",
    "(:Chunk)-[:PART_OF]->(:Form)\n",
    "// Forms link to the first Chunk in a section based on the `f10kItem` value from the Form 10k\n",
    "(:Form)-[:SECTION {f10kItem: string}]->(:Chunk)\n",
    "```"
   ]
  },
  {
   "cell_type": "markdown",
   "metadata": {},
   "source": [
    "## Setup"
   ]
  },
  {
   "cell_type": "code",
   "execution_count": null,
   "metadata": {},
   "outputs": [],
   "source": [
    "%run 'shared.ipynb'"
   ]
  },
  {
   "cell_type": "markdown",
   "metadata": {},
   "source": [
    "# Extract Form Nodes\n",
    "\n",
    "There will be one Form node for every Form 10k.\n",
    "\n",
    "Like creating the Chunks, we'll loop through all Form 10k files,\n",
    "extracting the sections we want to use as the Form nodes."
   ]
  },
  {
   "cell_type": "code",
   "execution_count": null,
   "metadata": {},
   "outputs": [],
   "source": [
    "# A helper function for creating a Form record from the file information\n",
    "def extract_form10k_form_from_file(file):\n",
    "    file_as_object = json.load(open(file)) # open the json file\n",
    "    form_id = file[file.rindex('/') + 1:file.rindex('.')] # extract form id from file name\n",
    "    full_text = f\"\"\"About {file_as_object['names']}...\n",
    "      {file_as_object['item1'] if 'item1' in file_as_object else ''}\n",
    "      {file_as_object['item1a'] if 'item1a' in file_as_object else ''}\n",
    "      {file_as_object['item7'] if 'item7' in file_as_object else ''}\n",
    "      {file_as_object['item7a'] if 'item7a' in file_as_object else ''}\n",
    "      \"\"\"\n",
    "\n",
    "    form_with_metadata = {\n",
    "      'formId': f'{form_id}', # pulled from the filename\n",
    "      # metadata from file...\n",
    "      'names': file_as_object['names'],\n",
    "      'cik': file_as_object['cik'],\n",
    "      'cusip6': file_as_object['cusip6'],\n",
    "      'source': file_as_object['source'],\n",
    "      'fullText': full_text\n",
    "    }\n",
    "    \n",
    "    return form_with_metadata"
   ]
  },
  {
   "cell_type": "code",
   "execution_count": null,
   "metadata": {},
   "outputs": [],
   "source": [
    "# Create a uniqueness constraint on the textId property of Text nodes \n",
    "gdb.execute_query('CREATE CONSTRAINT unique_form IF NOT EXISTS FOR (n:Form) REQUIRE n.formId IS UNIQUE')\n"
   ]
  },
  {
   "cell_type": "code",
   "execution_count": null,
   "metadata": {},
   "outputs": [],
   "source": [
    "# Create parent `Form` nodes for each form..\n",
    "\n",
    "merge_form_node_query = \"\"\"\n",
    "MERGE (f:Form {formId: $formInfo.formId })\n",
    "  ON CREATE \n",
    "    SET f.names = $formInfo.names\n",
    "    SET f.source = $formInfo.source\n",
    "    SET f.cik = $formInfo.ci\n",
    "    SET f.cusip6 = $formInfo.cusip6\n",
    "RETURN f.formId\n",
    "\"\"\"\n",
    "\n",
    "# Helper function to create nodes for all chunks.\n",
    "# This will use the `merge_chunk_node_query` to create a `:Chunk` node for each chunk.\n",
    "def create_form_node(form_with_metadata):\n",
    "  print(f\"Creating `:Form` node for form ID {form_with_metadata['formId']}\")\n",
    "  gdb.execute_query(merge_form_node_query, \n",
    "          formInfo=form_with_metadata\n",
    "          )"
   ]
  },
  {
   "cell_type": "markdown",
   "metadata": {},
   "source": [
    "### Create *all* parent form nodes\n",
    "\n",
    "You can now create a Form node for each of the distinct formIds\n",
    "using distinct rows.\n",
    "\n",
    "For each row, \n",
    "`MERGE` a new `(:Form)` node\n",
    "with source, cik, and cusip6 properties.\n"
   ]
  },
  {
   "cell_type": "code",
   "execution_count": null,
   "metadata": {},
   "outputs": [],
   "source": [
    "%%time\n",
    "\n",
    "import glob\n",
    "\n",
    "IMPORT_DATA_DIRECTORY = f\"{DATA_DIR}/form10k/\"\n",
    "\n",
    "all_file_names = glob.glob(IMPORT_DATA_DIRECTORY + \"*.json\")\n",
    "counter = 0\n",
    "\n",
    "all_forms = []\n",
    "\n",
    "for file_name in all_file_names:\n",
    "    counter += 1\n",
    "    print(f'=== Processing {counter} of {len(all_file_names)} ===')\n",
    "    # get form data from the files\n",
    "    print(f'Reading Form10k file {file_name}...')\n",
    "    form_with_metadata = extract_form10k_form_from_file(file_name)\n",
    "    all_forms.append(form_with_metadata)\n",
    "    # create node\n",
    "    print('Creating Form Node...')\n",
    "    create_form_node(form_with_metadata)\n",
    "    print(f'Done Processing {file_name}')\n",
    "\n",
    "# Check the number of nodes in the graph\n",
    "gdb.execute_query(\"MATCH (n:Form) RETURN count(n) as formCount\").records"
   ]
  },
  {
   "cell_type": "markdown",
   "metadata": {},
   "source": [
    "# Enhance - create summary property, with embedding\n",
    "\n",
    "During the file processing above, the text from all interesting\n",
    "items were added to the `fullText` property of the `all_forms` dictionaries.\n",
    "\n",
    "We'll use an LLM to summarize the text and create an embedding.\n",
    "\n",
    "Both the text summary and the embdding will be added to the Form nodes."
   ]
  },
  {
   "cell_type": "code",
   "execution_count": null,
   "metadata": {},
   "outputs": [],
   "source": [
    "# Create an embedding to find out the dimensions of the vector\n",
    "text_embedding = embeddings_api.embed_query(\"embed this text using an LLM\")\n",
    "vector_dimensions = len(text_embedding) \n",
    "\n",
    "print(f\"Text embeddings will have {vector_dimensions} dimensions\")\n",
    "# Create a vector index called \"form_10k_forms\" the `summaryEmbedding`` property of nodes labeled `Form`. \n",
    "gdb.execute_query(\"\"\"\n",
    "         CREATE VECTOR INDEX `form_10k_forms` IF NOT EXISTS\n",
    "          FOR (f:Form) ON (f.summaryEmbedding) \n",
    "          OPTIONS { indexConfig: {\n",
    "            `vector.dimensions`: $vectorDimensionsParam,\n",
    "            `vector.similarity_function`: 'cosine'    \n",
    "         }}\n",
    "\"\"\",\n",
    "  vectorDimensionsParam=vector_dimensions\n",
    ")\n",
    "\n",
    "# Check the vector indexes in the graph\n",
    "gdb.execute_query('SHOW VECTOR INDEXES')"
   ]
  },
  {
   "cell_type": "code",
   "execution_count": null,
   "metadata": {},
   "outputs": [],
   "source": [
    "text_splitter = RecursiveCharacterTextSplitter(\n",
    "    chunk_size = 60000,\n",
    "    chunk_overlap  = 0,\n",
    "    length_function = len,\n",
    "    is_separator_regex = False,\n",
    ")\n",
    "\n",
    "for form_info in all_forms:\n",
    "  split_text = text_splitter.split_text(form_info['fullText'])\n",
    "  summary = ''\n",
    "  for partial_text in split_text:\n",
    "    partial_summary = chat_api.invoke(\n",
    "      f\"\"\"Write a single, very brief sentence summary of {form_info['names'][0]}'s business\n",
    "       based on the following information...\\n {partial_text}\n",
    "      \"\"\")\n",
    "    summary += partial_summary.content + '\\n\\n'\n",
    "  print(f\"Summarized {form_info['names'][0]}'s form-10k in {len(summary)} characters. Here's a preview...\")\n",
    "  print(f\"\\t{summary[:120]}\")\n",
    "  form_info['summary'] = summary\n",
    "  summary_embedding = embeddings_api.embed_query(summary)\n",
    "  form_info['summaryEmbedding'] = summary_embedding\n",
    "  print(f\"\\tUpdating form with ID {form_info['formId']} with summary and embedding...\")\n",
    "  gdb.execute_query(\"\"\"\n",
    "    MATCH (f:Form {formId: $formInfoParam.formId})\n",
    "      SET f.summary = $formInfoParam.summary \n",
    "    WITH f\n",
    "      CALL db.create.setNodeVectorProperty(f, \"summaryEmbedding\", $formInfoParam.summaryEmbedding)    \n",
    "    \"\"\", \n",
    "      formInfoParam=form_info\n",
    "  )\n"
   ]
  },
  {
   "cell_type": "markdown",
   "metadata": {},
   "source": [
    "# Expand - connect Chunks to Form nodes"
   ]
  },
  {
   "cell_type": "markdown",
   "metadata": {},
   "source": [
    "### Connect chunks to parent Form nodes\n",
    "\n",
    "Next, connect the chunks to the Form they're part of."
   ]
  },
  {
   "cell_type": "code",
   "execution_count": null,
   "metadata": {},
   "outputs": [],
   "source": [
    "# Connect all chunks to their parent `Form` node...\n",
    "\n",
    "# MATCH a paired node pattern, for the `Chunk` and `Form` nodes\n",
    "# WHERE the `Chunk` and `Form` nodes have the same `formId` property\n",
    "# connect the pairs into a (:Chunk)-[:PART_OF]->(:Form) relationship\n",
    "cypher = \"\"\"\n",
    "  MATCH (c:Chunk), (f:Form)\n",
    "    WHERE c.formId = f.formId\n",
    "  MERGE (c)-[newRelationship:PART_OF]->(f)\n",
    "  RETURN count(newRelationship)\n",
    "\"\"\"\n",
    "\n",
    "gdb.execute_query(cypher).records"
   ]
  },
  {
   "cell_type": "markdown",
   "metadata": {},
   "source": [
    "### Connect `Form` to head of `Chunk` list\n",
    "\n",
    "You can add one more relationship to the graph, connecting\n",
    "the `Form` to the first `Chunk` of each section.\n",
    "\n",
    "This is similar to the previous query,\n",
    "but also checks that the chunk sequence id is 0.\n",
    "\n",
    "The `SECTION` relationship that connects the Form to the\n",
    "first chunk will also get an `f10kItem` property.\n",
    "\n",
    "This is a kindness for humans looking at the knowledge graph,\n",
    "enabling them to eaily navigate from a Form to the beginning\n",
    "of a particular section."
   ]
  },
  {
   "cell_type": "code",
   "execution_count": null,
   "metadata": {},
   "outputs": [],
   "source": [
    "# Connect all parent `Form` nodes to the \"head\" of each section linked list...\n",
    "\n",
    "# MATCH a paired node pattern, for the `Chunk` and `Form` nodes\n",
    "# WHERE the `Chunk` and `Form` nodes have the same `formId` property\n",
    "# (this is exactly like a JOIN in SQL)\n",
    "# connect the pairs with a (:Chunk)-[:PART_OF]->(:Form) relationship\n",
    "cypher = \"\"\"\n",
    "  MATCH (headOfSection:Chunk), (f:Form)\n",
    "  WHERE headOfSection.formId = f.formId\n",
    "    AND headOfSection.chunkSeqId = 0\n",
    "  WITH headOfSection, f\n",
    "    MERGE (f)-[newRelationship:SECTION {item:headOfSection.item}]->(headOfSection)\n",
    "  RETURN count(newRelationship)\n",
    "\"\"\"\n",
    "\n",
    "gdb.execute_query(cypher).records"
   ]
  },
  {
   "cell_type": "markdown",
   "metadata": {},
   "source": [
    "# Examples"
   ]
  },
  {
   "cell_type": "markdown",
   "metadata": {},
   "source": [
    "### Vector search with graph pattern\n",
    "\n",
    "You can now create a question answering chain.\n",
    "\n",
    "The default Neo4jVector uses a basic cypher query\n",
    "to peform vector similarity search.\n",
    "\n",
    "That query can be extended to do whatever you\n",
    "want in a Cypher.\n",
    "\n",
    "This Cypher query extension will receive two variables: `node` and `score`\n",
    "and it should should return three fields: `text`, `score`, and `metadata`.\n",
    "\n",
    "  - The `text` should be plain text to be passed to the LLM.\n",
    "  - The `score` column should be the similarity score of the text.\n",
    "  - The `metadata` can be any additional information you want to pass, like the source of the text.\n",
    "\n",
    "\n",
    "In this example, we'll use the previous/next chunks to expand the context of the text passed to the LLM.\n",
    "\n",
    "Create two QA chains, one with and one without the chunk window.\n"
   ]
  },
  {
   "cell_type": "code",
   "execution_count": null,
   "metadata": {},
   "outputs": [],
   "source": [
    "\n",
    "# Create a langchain vector store from the existing Neo4j knowledge graph.\n",
    "neo4j_vector_store = Neo4jVector.from_existing_graph(\n",
    "    embedding=embeddings_api,\n",
    "    url=NEO4J_URI,\n",
    "    username=NEO4J_USERNAME,\n",
    "    password=NEO4J_PASSWORD,\n",
    "    index_name=VECTOR_INDEX_NAME,\n",
    "    node_label=VECTOR_NODE_LABEL,\n",
    "    text_node_properties=[VECTOR_SOURCE_PROPERTY],\n",
    "    embedding_node_property=VECTOR_EMBEDDING_PROPERTY,\n",
    ")\n",
    "# Create a retriever from the vector store\n",
    "windowless_retriever = neo4j_vector_store.as_retriever()\n",
    "\n",
    "# Create a chatbot Question & Answer chain from the retriever\n",
    "windowless_chain = prettifyChain(RetrievalQAWithSourcesChain.from_chain_type(\n",
    "    chat_api, \n",
    "    chain_type=\"stuff\", \n",
    "    retriever=windowless_retriever\n",
    "))"
   ]
  },
  {
   "cell_type": "code",
   "execution_count": null,
   "metadata": {},
   "outputs": [],
   "source": [
    "retrieval_query_window = \"\"\"\n",
    "MATCH window=\n",
    "    (:Chunk)-[:NEXT*0..1]->(node)-[:NEXT*0..1]->(:Chunk)\n",
    "WITH node, score, window as longestWindow \n",
    "  ORDER BY length(window) DESC LIMIT 1\n",
    "WITH nodes(longestWindow) as chunkList, node, score\n",
    "  UNWIND chunkList as chunkRows\n",
    "WITH collect(chunkRows.text) as textList, node, score\n",
    "RETURN apoc.text.join(textList, \" \\n \") as text,\n",
    "    score,\n",
    "    node {.source} AS metadata\n",
    "\"\"\"\n",
    "\n",
    "vector_store_window = Neo4jVector.from_existing_index(\n",
    "    embedding=embeddings_api,\n",
    "    url=NEO4J_URI,\n",
    "    username=NEO4J_USERNAME,\n",
    "    password=NEO4J_PASSWORD,\n",
    "    database=\"neo4j\",\n",
    "    index_name=VECTOR_INDEX_NAME,\n",
    "    text_node_property=VECTOR_SOURCE_PROPERTY,\n",
    "    retrieval_query=retrieval_query_window\n",
    ")\n",
    "\n",
    "# Create a retriever from the vector store\n",
    "retriever_window = vector_store_window.as_retriever()\n",
    "\n",
    "# Create a chatbot Question & Answer chain from the retriever\n",
    "chain_window = prettifyChain(RetrievalQAWithSourcesChain.from_chain_type(\n",
    "    chat_api, \n",
    "    chain_type=\"stuff\", \n",
    "    retriever=retriever_window\n",
    "))"
   ]
  },
  {
   "cell_type": "markdown",
   "metadata": {},
   "source": [
    "## Example questions - compare with and without context window"
   ]
  },
  {
   "cell_type": "code",
   "execution_count": null,
   "metadata": {},
   "outputs": [],
   "source": [
    "question = \"Tell me about Netapp's business.\""
   ]
  },
  {
   "cell_type": "code",
   "execution_count": null,
   "metadata": {},
   "outputs": [],
   "source": [
    "windowless_chain(question)"
   ]
  },
  {
   "cell_type": "code",
   "execution_count": null,
   "metadata": {},
   "outputs": [],
   "source": [
    "chain_window(question)"
   ]
  },
  {
   "cell_type": "code",
   "execution_count": null,
   "metadata": {},
   "outputs": [],
   "source": []
  }
 ],
 "metadata": {
  "kernelspec": {
   "display_name": "Python 3 (ipykernel)",
   "language": "python",
   "name": "python3"
  },
  "language_info": {
   "codemirror_mode": {
    "name": "ipython",
    "version": 3
   },
   "file_extension": ".py",
   "mimetype": "text/x-python",
   "name": "python",
   "nbconvert_exporter": "python",
   "pygments_lexer": "ipython3",
   "version": "3.11.6"
  }
 },
 "nbformat": 4,
 "nbformat_minor": 4
}
