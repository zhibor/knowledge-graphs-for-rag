{
 "cells": [
  {
   "cell_type": "markdown",
   "metadata": {
    "collapsed": false,
    "jupyter": {
     "outputs_hidden": false
    }
   },
   "source": [
    "# Reset the Knowledge Graph"
   ]
  },
  {
   "cell_type": "markdown",
   "metadata": {},
   "source": [
    "## Imports"
   ]
  },
  {
   "cell_type": "markdown",
   "metadata": {},
   "source": [
    "### Import python packages\n",
    "\n",
    "To start, load some useful python packages, including some great stuff from langchain.\n",
    "The \"shared\" notebook also sets up global constants like the connection to Neo4j,\n",
    "embedding model to use, and the LLM to use for chat.\n"
   ]
  },
  {
   "cell_type": "code",
   "execution_count": null,
   "metadata": {},
   "outputs": [],
   "source": [
    "%run 'shared.ipynb'"
   ]
  },
  {
   "cell_type": "markdown",
   "metadata": {
    "collapsed": false,
    "jupyter": {
     "outputs_hidden": false
    }
   },
   "source": [
    "## Set up Neo4j"
   ]
  },
  {
   "cell_type": "markdown",
   "metadata": {},
   "source": [
    "### Prepare a GraphDatabase driver\n",
    "\n",
    "You can use the Neo4j `GraphDatabase` interface to send queries to the graph database."
   ]
  },
  {
   "cell_type": "code",
   "execution_count": null,
   "metadata": {},
   "outputs": [],
   "source": [
    "# expect `gdb` to be defined in shared notebook\n",
    "# gdb = GraphDatabase.driver(uri=NEO4J_URI, auth=(NEO4J_USERNAME, NEO4J_PASSWORD))\n",
    "\n",
    "result = gdb.execute_query(\"RETURN 'Hello, World!' AS message\")\n",
    "\n",
    "result.records[0].get('message')"
   ]
  },
  {
   "cell_type": "markdown",
   "metadata": {},
   "source": [
    "# Clean up the graph to remove any existing data and indexes\n",
    "\n",
    "Use these queries to reset the current graph to a blank state,\n",
    "with no indexes, contraints or data."
   ]
  },
  {
   "cell_type": "code",
   "execution_count": null,
   "metadata": {},
   "outputs": [],
   "source": [
    "for constraint in gdb.execute_query('SHOW CONSTRAINTS').records:\n",
    "    print(f\"Removing constraint {constraint['name']}:\")\n",
    "    gdb.execute_query(f\"DROP CONSTRAINT {constraint['name']}\")"
   ]
  },
  {
   "cell_type": "code",
   "execution_count": null,
   "metadata": {},
   "outputs": [],
   "source": [
    "for index in gdb.execute_query('SHOW INDEXES').records:\n",
    "    print(f\"Removing index {index['name']}:\")\n",
    "    gdb.execute_query(f\"\"\"\n",
    "        DROP INDEX `{index['name']}`\n",
    "    \"\"\")"
   ]
  },
  {
   "cell_type": "code",
   "execution_count": null,
   "metadata": {},
   "outputs": [],
   "source": [
    "# Remove all data by matching any node, then \"detach deleting\" it,\n",
    "# which means removing the node and all its relationships.\n",
    "gdb.execute_query(\"\"\"\n",
    "        MATCH (all)\n",
    "        DETACH DELETE all\n",
    "\"\"\")"
   ]
  },
  {
   "cell_type": "markdown",
   "metadata": {},
   "source": [
    "## Basic Cypher Queries"
   ]
  },
  {
   "cell_type": "markdown",
   "metadata": {},
   "source": [
    "### Script - helpful way to show schema"
   ]
  },
  {
   "cell_type": "code",
   "execution_count": null,
   "metadata": {},
   "outputs": [],
   "source": [
    "def show_schema(gdb):\n",
    "  nodes = gdb.execute_query(\"\"\"CALL db.schema.nodeTypeProperties()\"\"\")\n",
    "  print(nodes)\n",
    "  relationships = gdb.execute_query(\"\"\"CALL db.schema.relTypeProperties()\"\"\")\n",
    "  print(relationships)\n",
    "\n",
    "show_schema(gdb)"
   ]
  },
  {
   "cell_type": "code",
   "execution_count": null,
   "metadata": {},
   "outputs": [],
   "source": []
  }
 ],
 "metadata": {
  "kernelspec": {
   "display_name": "Python 3 (ipykernel)",
   "language": "python",
   "name": "python3"
  },
  "language_info": {
   "codemirror_mode": {
    "name": "ipython",
    "version": 3
   },
   "file_extension": ".py",
   "mimetype": "text/x-python",
   "name": "python",
   "nbconvert_exporter": "python",
   "pygments_lexer": "ipython3",
   "version": "3.11.6"
  }
 },
 "nbformat": 4,
 "nbformat_minor": 4
}
